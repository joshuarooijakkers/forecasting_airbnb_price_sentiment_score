{
  "cells": [
    {
      "cell_type": "markdown",
      "id": "ff33593c-9890-4d47-a4c3-78ed062e5988",
      "metadata": {
        "id": "ff33593c-9890-4d47-a4c3-78ed062e5988"
      },
      "source": [
        "## TI3160TU: Natural Language Processing - Classification tasks Lab"
      ]
    },
    {
      "cell_type": "markdown",
      "id": "26f3c7a6-4d13-48fb-b403-cb55a283eb36",
      "metadata": {
        "id": "26f3c7a6-4d13-48fb-b403-cb55a283eb36"
      },
      "source": [
        "Hey Stevan zie je dit!:\n",
        "\n",
        "0. **Collecting dataset from Kaggle**\n",
        "1. **Preprocessing the raw dataset**\n",
        "2. **Extracting Bag of Words representations from the preprocessed dataset**\n",
        "3. **Performing sentiment classification using Naive Bayes**\n",
        "4. **Performance Considerations and Improvements**"
      ]
    },
    {
      "cell_type": "markdown",
      "id": "0f9e34a0-e956-4f99-af8e-a31525934493",
      "metadata": {
        "id": "0f9e34a0-e956-4f99-af8e-a31525934493"
      },
      "source": [
        "## Step 1: Building a Naive Bayes classifier for sentiment analysis\n"
      ]
    },
    {
      "cell_type": "markdown",
      "source": [
        "### Preprocessing"
      ],
      "metadata": {
        "id": "sTGXH1brZXIs"
      },
      "id": "sTGXH1brZXIs"
    },
    {
      "cell_type": "markdown",
      "source": [
        "#### Importing utilities"
      ],
      "metadata": {
        "id": "2nivEyB3XBZc"
      },
      "id": "2nivEyB3XBZc"
    },
    {
      "cell_type": "code",
      "source": [
        "from sklearn.feature_extraction.text import CountVectorizer\n",
        "import re\n",
        "\n",
        "import nltk\n",
        "from nltk.corpus import stopwords\n",
        "from nltk.stem import PorterStemmer\n",
        "import pandas as pd\n",
        "import numpy as np\n",
        "from sklearn.model_selection import train_test_split\n",
        "from sklearn.naive_bayes import MultinomialNB\n",
        "from sklearn.metrics import accuracy_score, precision_score, recall_score, f1_score\n",
        "import matplotlib.pyplot as plt\n",
        "from sklearn.tree import DecisionTreeClassifier\n",
        "from sklearn.ensemble import RandomForestClassifier\n",
        "import pandas as pd\n",
        "import numpy as np\n",
        "!pip install langdetect\n",
        "from langdetect import detect\n",
        "\n",
        "nltk.download('stopwords', quiet=True)\n",
        "stop_words = set(stopwords.words('english'))"
      ],
      "metadata": {
        "id": "waKl-2qf3v8J",
        "colab": {
          "base_uri": "https://localhost:8080/"
        },
        "outputId": "b6d5d906-91ba-447c-d0e4-481822a416f8"
      },
      "id": "waKl-2qf3v8J",
      "execution_count": 1,
      "outputs": [
        {
          "output_type": "stream",
          "name": "stdout",
          "text": [
            "Collecting langdetect\n",
            "  Downloading langdetect-1.0.9.tar.gz (981 kB)\n",
            "\u001b[2K     \u001b[90m━━━━━━━━━━━━━━━━━━━━━━━━━━━━━━━━━━━━━━━━\u001b[0m \u001b[32m981.5/981.5 kB\u001b[0m \u001b[31m8.6 MB/s\u001b[0m eta \u001b[36m0:00:00\u001b[0m\n",
            "\u001b[?25h  Preparing metadata (setup.py) ... \u001b[?25l\u001b[?25hdone\n",
            "Requirement already satisfied: six in /usr/local/lib/python3.10/dist-packages (from langdetect) (1.16.0)\n",
            "Building wheels for collected packages: langdetect\n",
            "  Building wheel for langdetect (setup.py) ... \u001b[?25l\u001b[?25hdone\n",
            "  Created wheel for langdetect: filename=langdetect-1.0.9-py3-none-any.whl size=993227 sha256=86118fc30d364530b9beb2b64a8af4d3a567662160fb9f5d554fa2aab75600db\n",
            "  Stored in directory: /root/.cache/pip/wheels/95/03/7d/59ea870c70ce4e5a370638b5462a7711ab78fba2f655d05106\n",
            "Successfully built langdetect\n",
            "Installing collected packages: langdetect\n",
            "Successfully installed langdetect-1.0.9\n"
          ]
        }
      ]
    },
    {
      "cell_type": "code",
      "source": [
        "from google.colab import drive\n",
        "drive.mount('/content/drive')"
      ],
      "metadata": {
        "colab": {
          "base_uri": "https://localhost:8080/"
        },
        "id": "U033x6aB--_C",
        "outputId": "0597d30e-92b1-4236-feef-06be265ffa8c"
      },
      "id": "U033x6aB--_C",
      "execution_count": 2,
      "outputs": [
        {
          "output_type": "stream",
          "name": "stdout",
          "text": [
            "Mounted at /content/drive\n"
          ]
        }
      ]
    },
    {
      "cell_type": "markdown",
      "source": [
        "#### Loading data"
      ],
      "metadata": {
        "id": "ZhxSQzHwXEK0"
      },
      "id": "ZhxSQzHwXEK0"
    },
    {
      "cell_type": "code",
      "source": [
        "raw_hotel_reviews = pd.read_csv('/content/drive/MyDrive/NLP_assignment/hotel-reviews 1.csv')"
      ],
      "metadata": {
        "id": "G5KjdNTJonKV"
      },
      "id": "G5KjdNTJonKV",
      "execution_count": 3,
      "outputs": []
    },
    {
      "cell_type": "markdown",
      "source": [
        "#### Preparing train dataset (encoding labels)"
      ],
      "metadata": {
        "id": "wdACRL2OXHC7"
      },
      "id": "wdACRL2OXHC7"
    },
    {
      "cell_type": "code",
      "source": [
        "def dataset_prepare(dataset):\n",
        "  dataset = dataset.copy()\n",
        "  columns_to_drop = ['User_ID', 'Browser_Used', 'Device_Used']\n",
        "  dataset = dataset.drop(columns=columns_to_drop, axis=1)\n",
        "  dataset['Is_Response'].replace({'happy': 1, 'not happy': 0}, inplace=True)\n",
        "  dataset = dataset.rename(columns={'Is_Response': 'label'})\n",
        "  dataset = dataset.rename(columns={'Description': 'review'})\n",
        "\n",
        "  return dataset\n",
        "\n",
        "prepared_hotel_reviews = dataset_prepare(raw_hotel_reviews)\n",
        "\n",
        "prepared_hotel_reviews.head()"
      ],
      "metadata": {
        "id": "wlWpYrrMpvMJ",
        "colab": {
          "base_uri": "https://localhost:8080/",
          "height": 206
        },
        "outputId": "5c124ea0-a730-4c34-de7e-bec69575f42a"
      },
      "id": "wlWpYrrMpvMJ",
      "execution_count": 4,
      "outputs": [
        {
          "output_type": "execute_result",
          "data": {
            "text/plain": [
              "                                              review  label\n",
              "0  The room was kind of clean but had a VERY stro...      0\n",
              "1  I stayed at the Crown Plaza April -- - April -...      0\n",
              "2  I booked this hotel through Hotwire at the low...      0\n",
              "3  Stayed here with husband and sons on the way t...      1\n",
              "4  My girlfriends and I stayed here to celebrate ...      0"
            ],
            "text/html": [
              "\n",
              "  <div id=\"df-ffb7afc8-2459-4bbf-aee9-d6449a8580e8\" class=\"colab-df-container\">\n",
              "    <div>\n",
              "<style scoped>\n",
              "    .dataframe tbody tr th:only-of-type {\n",
              "        vertical-align: middle;\n",
              "    }\n",
              "\n",
              "    .dataframe tbody tr th {\n",
              "        vertical-align: top;\n",
              "    }\n",
              "\n",
              "    .dataframe thead th {\n",
              "        text-align: right;\n",
              "    }\n",
              "</style>\n",
              "<table border=\"1\" class=\"dataframe\">\n",
              "  <thead>\n",
              "    <tr style=\"text-align: right;\">\n",
              "      <th></th>\n",
              "      <th>review</th>\n",
              "      <th>label</th>\n",
              "    </tr>\n",
              "  </thead>\n",
              "  <tbody>\n",
              "    <tr>\n",
              "      <th>0</th>\n",
              "      <td>The room was kind of clean but had a VERY stro...</td>\n",
              "      <td>0</td>\n",
              "    </tr>\n",
              "    <tr>\n",
              "      <th>1</th>\n",
              "      <td>I stayed at the Crown Plaza April -- - April -...</td>\n",
              "      <td>0</td>\n",
              "    </tr>\n",
              "    <tr>\n",
              "      <th>2</th>\n",
              "      <td>I booked this hotel through Hotwire at the low...</td>\n",
              "      <td>0</td>\n",
              "    </tr>\n",
              "    <tr>\n",
              "      <th>3</th>\n",
              "      <td>Stayed here with husband and sons on the way t...</td>\n",
              "      <td>1</td>\n",
              "    </tr>\n",
              "    <tr>\n",
              "      <th>4</th>\n",
              "      <td>My girlfriends and I stayed here to celebrate ...</td>\n",
              "      <td>0</td>\n",
              "    </tr>\n",
              "  </tbody>\n",
              "</table>\n",
              "</div>\n",
              "    <div class=\"colab-df-buttons\">\n",
              "\n",
              "  <div class=\"colab-df-container\">\n",
              "    <button class=\"colab-df-convert\" onclick=\"convertToInteractive('df-ffb7afc8-2459-4bbf-aee9-d6449a8580e8')\"\n",
              "            title=\"Convert this dataframe to an interactive table.\"\n",
              "            style=\"display:none;\">\n",
              "\n",
              "  <svg xmlns=\"http://www.w3.org/2000/svg\" height=\"24px\" viewBox=\"0 -960 960 960\">\n",
              "    <path d=\"M120-120v-720h720v720H120Zm60-500h600v-160H180v160Zm220 220h160v-160H400v160Zm0 220h160v-160H400v160ZM180-400h160v-160H180v160Zm440 0h160v-160H620v160ZM180-180h160v-160H180v160Zm440 0h160v-160H620v160Z\"/>\n",
              "  </svg>\n",
              "    </button>\n",
              "\n",
              "  <style>\n",
              "    .colab-df-container {\n",
              "      display:flex;\n",
              "      gap: 12px;\n",
              "    }\n",
              "\n",
              "    .colab-df-convert {\n",
              "      background-color: #E8F0FE;\n",
              "      border: none;\n",
              "      border-radius: 50%;\n",
              "      cursor: pointer;\n",
              "      display: none;\n",
              "      fill: #1967D2;\n",
              "      height: 32px;\n",
              "      padding: 0 0 0 0;\n",
              "      width: 32px;\n",
              "    }\n",
              "\n",
              "    .colab-df-convert:hover {\n",
              "      background-color: #E2EBFA;\n",
              "      box-shadow: 0px 1px 2px rgba(60, 64, 67, 0.3), 0px 1px 3px 1px rgba(60, 64, 67, 0.15);\n",
              "      fill: #174EA6;\n",
              "    }\n",
              "\n",
              "    .colab-df-buttons div {\n",
              "      margin-bottom: 4px;\n",
              "    }\n",
              "\n",
              "    [theme=dark] .colab-df-convert {\n",
              "      background-color: #3B4455;\n",
              "      fill: #D2E3FC;\n",
              "    }\n",
              "\n",
              "    [theme=dark] .colab-df-convert:hover {\n",
              "      background-color: #434B5C;\n",
              "      box-shadow: 0px 1px 3px 1px rgba(0, 0, 0, 0.15);\n",
              "      filter: drop-shadow(0px 1px 2px rgba(0, 0, 0, 0.3));\n",
              "      fill: #FFFFFF;\n",
              "    }\n",
              "  </style>\n",
              "\n",
              "    <script>\n",
              "      const buttonEl =\n",
              "        document.querySelector('#df-ffb7afc8-2459-4bbf-aee9-d6449a8580e8 button.colab-df-convert');\n",
              "      buttonEl.style.display =\n",
              "        google.colab.kernel.accessAllowed ? 'block' : 'none';\n",
              "\n",
              "      async function convertToInteractive(key) {\n",
              "        const element = document.querySelector('#df-ffb7afc8-2459-4bbf-aee9-d6449a8580e8');\n",
              "        const dataTable =\n",
              "          await google.colab.kernel.invokeFunction('convertToInteractive',\n",
              "                                                    [key], {});\n",
              "        if (!dataTable) return;\n",
              "\n",
              "        const docLinkHtml = 'Like what you see? Visit the ' +\n",
              "          '<a target=\"_blank\" href=https://colab.research.google.com/notebooks/data_table.ipynb>data table notebook</a>'\n",
              "          + ' to learn more about interactive tables.';\n",
              "        element.innerHTML = '';\n",
              "        dataTable['output_type'] = 'display_data';\n",
              "        await google.colab.output.renderOutput(dataTable, element);\n",
              "        const docLink = document.createElement('div');\n",
              "        docLink.innerHTML = docLinkHtml;\n",
              "        element.appendChild(docLink);\n",
              "      }\n",
              "    </script>\n",
              "  </div>\n",
              "\n",
              "\n",
              "<div id=\"df-a9a86cc0-ca60-409b-bbd8-d9a904200884\">\n",
              "  <button class=\"colab-df-quickchart\" onclick=\"quickchart('df-a9a86cc0-ca60-409b-bbd8-d9a904200884')\"\n",
              "            title=\"Suggest charts\"\n",
              "            style=\"display:none;\">\n",
              "\n",
              "<svg xmlns=\"http://www.w3.org/2000/svg\" height=\"24px\"viewBox=\"0 0 24 24\"\n",
              "     width=\"24px\">\n",
              "    <g>\n",
              "        <path d=\"M19 3H5c-1.1 0-2 .9-2 2v14c0 1.1.9 2 2 2h14c1.1 0 2-.9 2-2V5c0-1.1-.9-2-2-2zM9 17H7v-7h2v7zm4 0h-2V7h2v10zm4 0h-2v-4h2v4z\"/>\n",
              "    </g>\n",
              "</svg>\n",
              "  </button>\n",
              "\n",
              "<style>\n",
              "  .colab-df-quickchart {\n",
              "      --bg-color: #E8F0FE;\n",
              "      --fill-color: #1967D2;\n",
              "      --hover-bg-color: #E2EBFA;\n",
              "      --hover-fill-color: #174EA6;\n",
              "      --disabled-fill-color: #AAA;\n",
              "      --disabled-bg-color: #DDD;\n",
              "  }\n",
              "\n",
              "  [theme=dark] .colab-df-quickchart {\n",
              "      --bg-color: #3B4455;\n",
              "      --fill-color: #D2E3FC;\n",
              "      --hover-bg-color: #434B5C;\n",
              "      --hover-fill-color: #FFFFFF;\n",
              "      --disabled-bg-color: #3B4455;\n",
              "      --disabled-fill-color: #666;\n",
              "  }\n",
              "\n",
              "  .colab-df-quickchart {\n",
              "    background-color: var(--bg-color);\n",
              "    border: none;\n",
              "    border-radius: 50%;\n",
              "    cursor: pointer;\n",
              "    display: none;\n",
              "    fill: var(--fill-color);\n",
              "    height: 32px;\n",
              "    padding: 0;\n",
              "    width: 32px;\n",
              "  }\n",
              "\n",
              "  .colab-df-quickchart:hover {\n",
              "    background-color: var(--hover-bg-color);\n",
              "    box-shadow: 0 1px 2px rgba(60, 64, 67, 0.3), 0 1px 3px 1px rgba(60, 64, 67, 0.15);\n",
              "    fill: var(--button-hover-fill-color);\n",
              "  }\n",
              "\n",
              "  .colab-df-quickchart-complete:disabled,\n",
              "  .colab-df-quickchart-complete:disabled:hover {\n",
              "    background-color: var(--disabled-bg-color);\n",
              "    fill: var(--disabled-fill-color);\n",
              "    box-shadow: none;\n",
              "  }\n",
              "\n",
              "  .colab-df-spinner {\n",
              "    border: 2px solid var(--fill-color);\n",
              "    border-color: transparent;\n",
              "    border-bottom-color: var(--fill-color);\n",
              "    animation:\n",
              "      spin 1s steps(1) infinite;\n",
              "  }\n",
              "\n",
              "  @keyframes spin {\n",
              "    0% {\n",
              "      border-color: transparent;\n",
              "      border-bottom-color: var(--fill-color);\n",
              "      border-left-color: var(--fill-color);\n",
              "    }\n",
              "    20% {\n",
              "      border-color: transparent;\n",
              "      border-left-color: var(--fill-color);\n",
              "      border-top-color: var(--fill-color);\n",
              "    }\n",
              "    30% {\n",
              "      border-color: transparent;\n",
              "      border-left-color: var(--fill-color);\n",
              "      border-top-color: var(--fill-color);\n",
              "      border-right-color: var(--fill-color);\n",
              "    }\n",
              "    40% {\n",
              "      border-color: transparent;\n",
              "      border-right-color: var(--fill-color);\n",
              "      border-top-color: var(--fill-color);\n",
              "    }\n",
              "    60% {\n",
              "      border-color: transparent;\n",
              "      border-right-color: var(--fill-color);\n",
              "    }\n",
              "    80% {\n",
              "      border-color: transparent;\n",
              "      border-right-color: var(--fill-color);\n",
              "      border-bottom-color: var(--fill-color);\n",
              "    }\n",
              "    90% {\n",
              "      border-color: transparent;\n",
              "      border-bottom-color: var(--fill-color);\n",
              "    }\n",
              "  }\n",
              "</style>\n",
              "\n",
              "  <script>\n",
              "    async function quickchart(key) {\n",
              "      const quickchartButtonEl =\n",
              "        document.querySelector('#' + key + ' button');\n",
              "      quickchartButtonEl.disabled = true;  // To prevent multiple clicks.\n",
              "      quickchartButtonEl.classList.add('colab-df-spinner');\n",
              "      try {\n",
              "        const charts = await google.colab.kernel.invokeFunction(\n",
              "            'suggestCharts', [key], {});\n",
              "      } catch (error) {\n",
              "        console.error('Error during call to suggestCharts:', error);\n",
              "      }\n",
              "      quickchartButtonEl.classList.remove('colab-df-spinner');\n",
              "      quickchartButtonEl.classList.add('colab-df-quickchart-complete');\n",
              "    }\n",
              "    (() => {\n",
              "      let quickchartButtonEl =\n",
              "        document.querySelector('#df-a9a86cc0-ca60-409b-bbd8-d9a904200884 button');\n",
              "      quickchartButtonEl.style.display =\n",
              "        google.colab.kernel.accessAllowed ? 'block' : 'none';\n",
              "    })();\n",
              "  </script>\n",
              "</div>\n",
              "    </div>\n",
              "  </div>\n"
            ],
            "application/vnd.google.colaboratory.intrinsic+json": {
              "type": "dataframe",
              "variable_name": "prepared_hotel_reviews",
              "summary": "{\n  \"name\": \"prepared_hotel_reviews\",\n  \"rows\": 38932,\n  \"fields\": [\n    {\n      \"column\": \"review\",\n      \"properties\": {\n        \"dtype\": \"string\",\n        \"num_unique_values\": 38932,\n        \"samples\": [\n          \"We arrived and received an upgraded room (no charge) but there was some construction across the street so it was disruptive. We went and spoke to Jennifer at the front desk who immediately offered to give us another room located at the other end of the hotel. She personally showed us the room to ensure we were happy with it and we were. She was also very helpful in recommending local shows and attractions. Thank you Jennifer!\",\n          \"I had read the reviews of Affinia Gardens which were good, but really wasnt sure what to expect. Boy was I pleasantly surprised! First of all the room was immaculate. I am a little fussy when it comes to cleanliness, and this place was spotless. There were four ladies sharing a room (recipe for distaster right) But the room had different areas such as a makeup area and a separate mirror near the bathroom. The kitchenette was wonderful for having a bagel and coffee before we left for our classes. The only reason I didn't rank a five for location is because you have to take a cab to Times Square. Other than that, this place was a real gem.\",\n          \"My new husband and I stayed at this hotel -th November for -nights. I booked this hotel (direct) based on the very reasonable room rate for NYC and excellent reviews on TripAdvisor. We arrived by yellow cab and were greeted by such lovely and welcoming staff. I had advised upon booking (almost a year before departing) that it would be our honey moon. They had very kindly upgraded us from a lower floor queen room to a superior on the highest floor possible (--). A view of the Empire State Building to the left and a view of the Hudson to the right. Perfect. Reception also sent up a couple of cupcakes to our room with a note they had written offering their congratulations. What is lovely about this hotel is that there are only - rooms per floor and only those rooms can access your floor in the lift by swiping the door key in the lift. So there isn't a constant flow of people coming and going to their rooms or being noisy etc etc. Our room was nicely decorated and we had enough room. The bathroom was very modern and we had a lovely shower. The hotel isn't down the nicest of New York roads, but lets face it, you walk from your hotel to explore the city and back down the road, to the hotel for a nights sleep. It's not enough to worry about. Just a couple of seedy shops. Reception had free coffee in the mornings and warm apple in the afternoon. This was an added extra because you could just grab a takeaway coffee-apple and head to your destination. The hotel was apporx --- mins from Times Square. Not far at all. I really loved the feeling of this boutique style hotel and loved the fact that it is a bit of an undiscovered gem. I will always recommend this hotel for NYC.\"\n        ],\n        \"semantic_type\": \"\",\n        \"description\": \"\"\n      }\n    },\n    {\n      \"column\": \"label\",\n      \"properties\": {\n        \"dtype\": \"number\",\n        \"std\": 0,\n        \"min\": 0,\n        \"max\": 1,\n        \"num_unique_values\": 2,\n        \"samples\": [\n          1,\n          0\n        ],\n        \"semantic_type\": \"\",\n        \"description\": \"\"\n      }\n    }\n  ]\n}"
            }
          },
          "metadata": {},
          "execution_count": 4
        }
      ]
    },
    {
      "cell_type": "code",
      "execution_count": 5,
      "id": "13a18ad4-b362-47a5-9b82-677643c6774d",
      "metadata": {
        "id": "13a18ad4-b362-47a5-9b82-677643c6774d",
        "colab": {
          "base_uri": "https://localhost:8080/"
        },
        "outputId": "d861b9cb-62e6-4c7c-e025-e6ff410be693"
      },
      "outputs": [
        {
          "output_type": "stream",
          "name": "stdout",
          "text": [
            "Number of samples: All=38932 Positive=26521 Negative=12411\n"
          ]
        }
      ],
      "source": [
        "# lets check how many samples we have\n",
        "print(\"Number of samples: All=%d Positive=%d Negative=%d\" %(prepared_hotel_reviews.shape[0], prepared_hotel_reviews[prepared_hotel_reviews.label==1].shape[0], prepared_hotel_reviews[prepared_hotel_reviews.label==0].shape[0]))"
      ]
    },
    {
      "cell_type": "markdown",
      "id": "78c2f535-5b09-46dd-94b4-24f99f31041b",
      "metadata": {
        "id": "78c2f535-5b09-46dd-94b4-24f99f31041b"
      },
      "source": [
        "#### Preprocessing train dataset"
      ]
    },
    {
      "cell_type": "markdown",
      "id": "12935c91-b3b5-4ea7-8717-c54f267eb9c0",
      "metadata": {
        "id": "12935c91-b3b5-4ea7-8717-c54f267eb9c0"
      },
      "source": [
        "For the purposes of this simple classification task, we will preprocess the raw dataset using the following steps:\n",
        "- Normalize text by converting everything to lowercase\n",
        "- Remove punctuation, numbers, special characters, etc.\n",
        "- Stem all the words"
      ]
    },
    {
      "cell_type": "code",
      "source": [
        "# Helper function to preprocess text\n",
        "def preprocess_text(text):\n",
        "\n",
        "    # Convert to lowercase\n",
        "    text = text.lower()\n",
        "\n",
        "    # Remove punctuation, numbers, special characters, etc.\n",
        "    text = re.sub('[^a-z]', ' ', text)\n",
        "\n",
        "    # Remove stopwords and stem\n",
        "    text = ' '.join(stemmer.stem(word) for word in text.split() if word not in stop_words)\n",
        "\n",
        "    return text"
      ],
      "metadata": {
        "id": "pIZihD4iVS5n"
      },
      "id": "pIZihD4iVS5n",
      "execution_count": 6,
      "outputs": []
    },
    {
      "cell_type": "code",
      "source": [
        "stemmer = PorterStemmer()\n",
        "def preprocess_data(df):\n",
        "  df['preprocessed_review'] = df['review'].apply(preprocess_text)\n",
        "\n",
        "  preprocessed_df = df.drop('review', axis=1)\n",
        "\n",
        "  preprocessed_df = preprocessed_df[['preprocessed_review', 'label']] # Rearrange columns in the DataFrame\n",
        "\n",
        "  preprocessed_df = preprocessed_df.rename(columns={'preprocessed_review': 'review'})\n",
        "  return preprocessed_df\n",
        "\n",
        "preprocessed_hotel_reviews = preprocess_data(prepared_hotel_reviews)\n"
      ],
      "metadata": {
        "id": "h8-JotgzSSx8"
      },
      "id": "h8-JotgzSSx8",
      "execution_count": 7,
      "outputs": []
    },
    {
      "cell_type": "code",
      "source": [
        "print(preprocessed_hotel_reviews)"
      ],
      "metadata": {
        "id": "SQvUGp5eOmKM",
        "colab": {
          "base_uri": "https://localhost:8080/"
        },
        "outputId": "ca0c1f9f-2760-487f-a3e7-8311c3d8cda0"
      },
      "id": "SQvUGp5eOmKM",
      "execution_count": 8,
      "outputs": [
        {
          "output_type": "stream",
          "name": "stdout",
          "text": [
            "                                                  review  label\n",
            "0      room kind clean strong smell dog gener averag ...      0\n",
            "1      stay crown plaza april april staff friendli at...      0\n",
            "2      book hotel hotwir lowest price could find got ...      0\n",
            "3      stay husband son way alaska cruis love hotel g...      1\n",
            "4      girlfriend stay celebr th birthday plan weeken...      0\n",
            "...                                                  ...    ...\n",
            "38927  arriv late night walk check area complet flood...      1\n",
            "38928  posit impress locat public park opposit site s...      0\n",
            "38929  travel friend shop show locat great best say r...      0\n",
            "38930  experi ok paid extra view pool got view palm t...      0\n",
            "38931  westin wonder restor grand dame hotel bed line...      1\n",
            "\n",
            "[38932 rows x 2 columns]\n"
          ]
        }
      ]
    },
    {
      "cell_type": "markdown",
      "id": "0da7321d-e9ff-4e55-a0c7-adc866a63598",
      "metadata": {
        "tags": [],
        "id": "0da7321d-e9ff-4e55-a0c7-adc866a63598"
      },
      "source": [
        "### Training and validation"
      ]
    },
    {
      "cell_type": "code",
      "source": [
        "X = preprocessed_hotel_reviews['review'].values\n",
        "y = preprocessed_hotel_reviews['label'].values"
      ],
      "metadata": {
        "id": "L5dv7Xh-avdZ"
      },
      "id": "L5dv7Xh-avdZ",
      "execution_count": 9,
      "outputs": []
    },
    {
      "cell_type": "markdown",
      "id": "f628d033-7b4e-4661-a229-0f556863a0c9",
      "metadata": {
        "tags": [],
        "id": "f628d033-7b4e-4661-a229-0f556863a0c9"
      },
      "source": [
        "#### Splitting the data for training, validation and testing"
      ]
    },
    {
      "cell_type": "code",
      "source": [
        "comments_trainval, comments_test, y_trainval, y_test = train_test_split(X, y, test_size=0.10, random_state=42)"
      ],
      "metadata": {
        "id": "_1Ryq8XFZ5mN"
      },
      "id": "_1Ryq8XFZ5mN",
      "execution_count": 10,
      "outputs": []
    },
    {
      "cell_type": "markdown",
      "source": [
        "#### Tuning number of BoW features"
      ],
      "metadata": {
        "id": "tAMvalrzaKf6"
      },
      "id": "tAMvalrzaKf6"
    },
    {
      "cell_type": "code",
      "source": [
        "num_samples = [12500, 15000, 20000, 25000, 30338]\n",
        "def validation():\n",
        "\n",
        "  accuracies = []\n",
        "\n",
        "  for num in num_samples:\n",
        "\n",
        "      # instatiate our BoW vectorizer\n",
        "      vectorizer_num_samples = CountVectorizer(max_features=num)\n",
        "\n",
        "      # here, we extract our BoW array. This will be the input to our classifier\n",
        "      X_trainval = vectorizer_num_samples.fit_transform(comments_trainval)\n",
        "\n",
        "      # split the dataset\n",
        "      # defining random_state is important here as we aim to re-run this multiple times so we want to keep the same split\n",
        "      X_train, X_val, y_train, y_val = train_test_split(X_trainval, y_trainval, test_size=1/9, random_state=42)\n",
        "\n",
        "      # we train our Naive Bayes classifier. Note that here we only use the training set.\n",
        "      my_classifier = MultinomialNB()\n",
        "      my_classifier.fit(X_train, y_train)\n",
        "\n",
        "      # first we use the classifier to make predictions with all the samples that are included in the test set\n",
        "      my_y_pred = my_classifier.predict(X_val)\n",
        "\n",
        "      #then, we compare the predicted labels with the ground truth labels to calculate the accuracy, precision, recall, and f1_score of our classifer\n",
        "      accuracies.append(accuracy_score(y_val, my_y_pred))\n",
        "  return accuracies\n",
        "\n",
        "accuracies = validation()\n",
        "accuracies\n"
      ],
      "metadata": {
        "colab": {
          "base_uri": "https://localhost:8080/"
        },
        "id": "Qf4IYmq8b9jT",
        "outputId": "52be29c7-207b-4446-dc59-36115fede439"
      },
      "id": "Qf4IYmq8b9jT",
      "execution_count": 11,
      "outputs": [
        {
          "output_type": "execute_result",
          "data": {
            "text/plain": [
              "[0.8649203903441192,\n",
              " 0.8649203903441192,\n",
              " 0.864406779661017,\n",
              " 0.8659476117103235,\n",
              " 0.866974833076528]"
            ]
          },
          "metadata": {},
          "execution_count": 11
        }
      ]
    },
    {
      "cell_type": "code",
      "source": [
        "# Create the line plot\n",
        "plt.plot(num_samples, accuracies, marker='o', linestyle='-')\n",
        "\n",
        "# Customize the plot\n",
        "plt.xlabel(\"Number of BoW features\")\n",
        "plt.ylabel(\"Accuracy\")\n",
        "plt.grid(True)\n",
        "\n",
        "# Display the plot\n",
        "plt.show()"
      ],
      "metadata": {
        "colab": {
          "base_uri": "https://localhost:8080/",
          "height": 449
        },
        "id": "T9wGvd5WchId",
        "outputId": "b8203ff3-f619-43bc-83f1-cd641f005070"
      },
      "id": "T9wGvd5WchId",
      "execution_count": 12,
      "outputs": [
        {
          "output_type": "display_data",
          "data": {
            "text/plain": [
              "<Figure size 640x480 with 1 Axes>"
            ],
            "image/png": "[encoded data removed]"
          },
          "metadata": {}
        }
      ]
    },
    {
      "cell_type": "markdown",
      "id": "8b9844bc-d08f-4179-9a33-7195555cedbc",
      "metadata": {
        "id": "8b9844bc-d08f-4179-9a33-7195555cedbc"
      },
      "source": [
        "#### Training final classifier\n",
        "\n"
      ]
    },
    {
      "cell_type": "code",
      "source": [
        "def final_classifier():\n",
        "  vectorizer = CountVectorizer()\n",
        "  X_trainval = vectorizer.fit_transform(comments_trainval)\n",
        "  X_train, X_val, y_train, y_val = train_test_split(X_trainval, y_trainval, test_size=1/9, random_state=42)\n",
        "  my_classifier = MultinomialNB()\n",
        "  my_classifier.fit(X_train, y_train)\n",
        "  return my_classifier, vectorizer\n",
        "\n",
        "final_classifier, vectorizer = final_classifier()"
      ],
      "metadata": {
        "id": "VEy2nNm7fjgd"
      },
      "id": "VEy2nNm7fjgd",
      "execution_count": 13,
      "outputs": []
    },
    {
      "cell_type": "markdown",
      "source": [
        "### Generalization accuracy"
      ],
      "metadata": {
        "id": "CtSipC5XgA0V"
      },
      "id": "CtSipC5XgA0V"
    },
    {
      "cell_type": "markdown",
      "source": [
        "#### Test set"
      ],
      "metadata": {
        "id": "9d-hqaA8gb7M"
      },
      "id": "9d-hqaA8gb7M"
    },
    {
      "cell_type": "code",
      "source": [
        "from sklearn.metrics import confusion_matrix\n",
        "X_test = vectorizer.transform(comments_test)\n",
        "y_pred = final_classifier.predict(X_test)\n",
        "print(\"Accuracy: %.3f\" %(accuracy_score(y_test, y_pred)))\n",
        "print(\"Precision: %.3f\" %(precision_score(y_test, y_pred)))\n",
        "print(\"Recall: %.3f\" %(recall_score(y_test, y_pred)))\n",
        "print(\"F1-Score: %.3f\" %(f1_score(y_test, y_pred)))\n",
        "conf_matrix = confusion_matrix(y_test, y_pred)"
      ],
      "metadata": {
        "colab": {
          "base_uri": "https://localhost:8080/"
        },
        "id": "BhrE3K54gfxh",
        "outputId": "4c6ac319-2998-4b4e-9651-149bd21f176a"
      },
      "id": "BhrE3K54gfxh",
      "execution_count": 16,
      "outputs": [
        {
          "output_type": "stream",
          "name": "stdout",
          "text": [
            "Accuracy: 0.862\n",
            "Precision: 0.884\n",
            "Recall: 0.917\n",
            "F1-Score: 0.901\n"
          ]
        }
      ]
    },
    {
      "cell_type": "code",
      "source": [
        "import matplotlib.pyplot as plt\n",
        "import seaborn as sns\n",
        "import numpy as np\n",
        "\n",
        "def plot_confusion_matrix(conf_matrix, labels):\n",
        "    plt.figure(figsize=(8, 6))\n",
        "    sns.set(font_scale=1.2)\n",
        "    sns.heatmap(conf_matrix, annot=True, fmt=\"d\", cmap=\"Blues\", xticklabels=labels, yticklabels=labels, cbar=False)\n",
        "    plt.xlabel('Predicted Labels')\n",
        "    plt.ylabel('True Labels')\n",
        "    plt.title('Confusion Matrix')\n",
        "    plt.show()\n",
        "\n",
        "labels = ['Negative', 'Positive']\n",
        "\n",
        "plot_confusion_matrix(conf_matrix, labels)"
      ],
      "metadata": {
        "colab": {
          "base_uri": "https://localhost:8080/",
          "height": 578
        },
        "id": "LvAMtLjtno7t",
        "outputId": "aaa83c95-b0ff-451f-bf60-90d9750d8ec2"
      },
      "id": "LvAMtLjtno7t",
      "execution_count": 21,
      "outputs": [
        {
          "output_type": "display_data",
          "data": {
            "text/plain": [
              "<Figure size 800x600 with 1 Axes>"
            ],
            "image/png": "[encoded data removed]"
          },
          "metadata": {}
        }
      ]
    },
    {
      "cell_type": "markdown",
      "source": [
        "### Accuracy on unseen Airbnb data"
      ],
      "metadata": {
        "id": "c2Lz4f06oSey"
      },
      "id": "c2Lz4f06oSey"
    },
    {
      "cell_type": "code",
      "source": [
        "def preprocess_airbnb(df):\n",
        "  new_df = df.copy()\n",
        "  new_df['preprocessed_comment'] = new_df['comments'].apply(preprocess_text)\n",
        "  new_df = new_df[['preprocessed_comment']]\n",
        "\n",
        "  X = vectorizer.transform(new_df['preprocessed_comment'].values)\n",
        "\n",
        "  return X"
      ],
      "metadata": {
        "id": "Wxb8Pf9dpdbE"
      },
      "id": "Wxb8Pf9dpdbE",
      "execution_count": null,
      "outputs": []
    },
    {
      "cell_type": "code",
      "source": [
        "file_path_airbnb_labels = '/content/drive/MyDrive/NLP_assignment/labelled_airbnb_data.xlsx'\n",
        "airbnb_labels_df = pd.read_excel(file_path_airbnb_labels)\n",
        "comments_df = airbnb_labels_df[['comments']]\n",
        "labels = airbnb_labels_df[['labels']].values\n",
        "preprocessed_labeled_data = preprocess_airbnb(comments_df)\n",
        "predictions_labeled_data = final_classifier.predict(preprocessed_labeled_data)\n",
        "print(\"Accuracy: %.3f\" %(accuracy_score(labels, predictions_labeled_data)))\n",
        "confusion_matrix(labels, predictions_labeled_data)"
      ],
      "metadata": {
        "colab": {
          "base_uri": "https://localhost:8080/"
        },
        "id": "NZlbcb60oSFc",
        "outputId": "c72feaae-bd98-4f4e-b0e3-07b0081e4ca8"
      },
      "id": "NZlbcb60oSFc",
      "execution_count": null,
      "outputs": [
        {
          "output_type": "stream",
          "name": "stdout",
          "text": [
            "Accuracy: 0.975\n"
          ]
        },
        {
          "output_type": "execute_result",
          "data": {
            "text/plain": [
              "array([[242,   8],\n",
              "       [ 11, 489]])"
            ]
          },
          "metadata": {},
          "execution_count": 16
        }
      ]
    },
    {
      "cell_type": "markdown",
      "id": "22f002ec-dcb4-4231-9f27-b0afdbf10ca2",
      "metadata": {
        "id": "22f002ec-dcb4-4231-9f27-b0afdbf10ca2"
      },
      "source": [
        "## Step 2: Applying built classifier on Airbnb data"
      ]
    },
    {
      "cell_type": "markdown",
      "source": [
        "## Preprocessing dataset"
      ],
      "metadata": {
        "id": "gQRbB-dkKFry"
      },
      "id": "gQRbB-dkKFry"
    },
    {
      "cell_type": "markdown",
      "source": [
        "### Loading Airbnb data"
      ],
      "metadata": {
        "id": "MwNmdvdOSGst"
      },
      "id": "MwNmdvdOSGst"
    },
    {
      "cell_type": "code",
      "source": [
        "file_path_NYC = '/content/drive/MyDrive/NLP_assignment/NYC_excel_prepared_16k_tiny.xlsx'\n",
        "file_path_Austin = '/content/drive/MyDrive/NLP_assignment/Austin_excel_prepared_17k_tiny.xlsx'\n",
        "file_path_Melbourne = '/content/drive/MyDrive/NLP_assignment/Melbourne_excel_prepared_30k_small.xlsx'\n",
        "file_path_Capetown = '/content/drive/MyDrive/NLP_assignment/Capetown_excel_prepared_23k_tiny.xlsx'\n",
        "\n",
        "raw_NYC_comments = pd.read_excel(file_path_NYC)\n",
        "raw_Austin_comments = pd.read_excel(file_path_Austin)\n",
        "raw_Melbourne_comments = pd.read_excel(file_path_Melbourne)\n",
        "raw_Capetown_comments = pd.read_excel(file_path_Capetown)\n",
        "\n",
        "print(raw_NYC_comments)"
      ],
      "metadata": {
        "colab": {
          "base_uri": "https://localhost:8080/"
        },
        "id": "zevWnsXfKFDn",
        "outputId": "81b03a0b-ce27-43e6-e871-8fc885a6e9d5"
      },
      "id": "zevWnsXfKFDn",
      "execution_count": null,
      "outputs": [
        {
          "output_type": "stream",
          "name": "stdout",
          "text": [
            "                                                comments\n",
            "0      Waldemar was very nice but could have communic...\n",
            "1      Waldemar is a very kind and mild mannered host...\n",
            "2      Jennifer's place is lovely. As a host, she was...\n",
            "3      The home was convenient  and spacious, as adve...\n",
            "4      Travelers will find a very friendly and helpfu...\n",
            "...                                                  ...\n",
            "16468  It was my first experience with airbnb and a v...\n",
            "16469  Petite chambre trÃ¨s propre avec sa SDB et ses...\n",
            "16470  Lovely home and an unbeatable location. Beauti...\n",
            "16471  Such a great spot! The room is small-ish but h...\n",
            "16472  I had a wonderful time @ carol's place! Room i...\n",
            "\n",
            "[16473 rows x 1 columns]\n"
          ]
        }
      ]
    },
    {
      "cell_type": "markdown",
      "source": [
        "###Language Detector"
      ],
      "metadata": {
        "id": "nFGpcgH9PdI2"
      },
      "id": "nFGpcgH9PdI2"
    },
    {
      "cell_type": "code",
      "source": [
        "def is_english(text):\n",
        "    try:\n",
        "        return detect(text) == 'en'\n",
        "    except:\n",
        "        # Handle cases where language detection fails\n",
        "        return False\n",
        "\n",
        "# Assuming 'comments' is the column containing the reviews in your DataFrame\n",
        "# Adjust the code according to your DataFrame structure\n",
        "\n",
        "def english_preprocess(df):\n",
        "  df['is_english'] = df['comments'].apply(is_english)\n",
        "\n",
        "  # Filter out non-English comments\n",
        "  english_comments_df = df[df['is_english']]\n",
        "\n",
        "  # Drop the temporary 'is_english' column if needed\n",
        "  english_comments_df = english_comments_df.drop(columns=['is_english'])\n",
        "\n",
        "  # Display the DataFrame with only English comments\n",
        "  df_reset = english_comments_df.reset_index()\n",
        "  df_reset = df_reset[['comments']]\n",
        "  return df_reset\n",
        "\n",
        "# english_NYC_comments_df = english_preprocess(raw_NYC_comments)\n",
        "english_Austin_comments_df = english_preprocess(raw_Austin_comments)\n",
        "# english_Melbourne_comments_df = english_preprocess(raw_Melbourne_comments)\n",
        "# english_Capetown_comments_df = english_preprocess(raw_Capetown_comments)\n"
      ],
      "metadata": {
        "id": "WB4-wFf2Pf2l"
      },
      "id": "WB4-wFf2Pf2l",
      "execution_count": null,
      "outputs": []
    },
    {
      "cell_type": "code",
      "source": [
        "print(english_Austin_comments_df.shape)\n",
        "english_Austin_comments_df.nunique()"
      ],
      "metadata": {
        "colab": {
          "base_uri": "https://localhost:8080/"
        },
        "id": "859syb1Ksj3F",
        "outputId": "f697dda7-a468-4f46-d6f6-e43588a14682"
      },
      "id": "859syb1Ksj3F",
      "execution_count": null,
      "outputs": [
        {
          "output_type": "stream",
          "name": "stdout",
          "text": [
            "(17611, 1)\n"
          ]
        },
        {
          "output_type": "execute_result",
          "data": {
            "text/plain": [
              "comments    17477\n",
              "dtype: int64"
            ]
          },
          "metadata": {},
          "execution_count": 61
        }
      ]
    },
    {
      "cell_type": "markdown",
      "source": [
        "### Preprocessing data"
      ],
      "metadata": {
        "id": "6mnb_MW4R_RG"
      },
      "id": "6mnb_MW4R_RG"
    },
    {
      "cell_type": "code",
      "source": [
        "def preprocess_airbnb(df):\n",
        "  new_df = df.copy()\n",
        "  new_df['preprocessed_comment'] = new_df['comments'].apply(preprocess_text)\n",
        "  new_df = new_df[['preprocessed_comment']]\n",
        "\n",
        "  X = vectorizer.transform(new_df['preprocessed_comment'].values)\n",
        "\n",
        "  return X\n",
        "\n",
        "X_NYC = preprocess_airbnb(english_NYC_comments_df)\n",
        "X_Austin = preprocess_airbnb(english_Austin_comments_df)\n",
        "X_Melbourne = preprocess_airbnb(english_Melbourne_comments_df)\n",
        "X_Capetown = preprocess_airbnb(english_Capetown_comments_df)"
      ],
      "metadata": {
        "id": "MPvyRqc8QiM1"
      },
      "id": "MPvyRqc8QiM1",
      "execution_count": null,
      "outputs": []
    },
    {
      "cell_type": "code",
      "source": [
        "predictions_NYC = final_classifier.predict(X_NYC)\n",
        "predictions_Austin = final_classifier.predict(X_Austin)\n",
        "predictions_Melbourne = final_classifier.predict(X_Melbourne)\n",
        "predictions_Capetown = final_classifier.predict(X_Capetown)\n",
        "\n",
        "print('NYC: ', np.mean(predictions_NYC))\n",
        "print('Austin', np.mean(predictions_Austin))\n",
        "print('Melbourne: ', np.mean(predictions_Melbourne))\n",
        "print('Capetown', np.mean(predictions_Capetown))"
      ],
      "metadata": {
        "colab": {
          "base_uri": "https://localhost:8080/"
        },
        "id": "OCA6pGPctqSu",
        "outputId": "224afa8c-9984-448e-ff9f-88086ef3e8a7"
      },
      "id": "OCA6pGPctqSu",
      "execution_count": null,
      "outputs": [
        {
          "output_type": "stream",
          "name": "stdout",
          "text": [
            "NYC:  0.9342167534311405\n",
            "Austin 0.9227755380160128\n",
            "Melbourne:  0.9755675526024363\n",
            "Capetown 0.8941500073677489\n"
          ]
        }
      ]
    },
    {
      "cell_type": "code",
      "source": [
        "import matplotlib.pyplot as plt\n",
        "\n",
        "# Your two values for New York City and Austin\n",
        "values = [np.mean(predictions_NYC), np.mean(predictions_Austin)]  # Replace these values with your own\n",
        "\n",
        "# Names for the bars\n",
        "cities = ['New York City', 'Austin']\n",
        "\n",
        "plt.figure(figsize=(8, 6))\n",
        "\n",
        "# Creating the bar chart\n",
        "plt.bar(cities, values, color=['skyblue', 'salmon'])\n",
        "plt.ylim(0.80, 1.0)\n",
        "# Adding labels and title\n",
        "plt.xlabel('Cities')\n",
        "plt.ylabel('Percentage ')\n",
        "plt.title('Percentage Positive Comments between New York City and Austin')\n",
        "\n",
        "# Show the plot\n",
        "plt.show()"
      ],
      "metadata": {
        "colab": {
          "base_uri": "https://localhost:8080/",
          "height": 564
        },
        "id": "91DI5X9EYTbz",
        "outputId": "ff15f7db-e262-4411-dab1-aafe411c8930"
      },
      "id": "91DI5X9EYTbz",
      "execution_count": null,
      "outputs": [
        {
          "output_type": "display_data",
          "data": {
            "text/plain": [
              "<Figure size 800x600 with 1 Axes>"
            ],
            "image/png": "[encoded data removed]"
          },
          "metadata": {}
        }
      ]
    },
    {
      "cell_type": "code",
      "source": [
        "\n",
        "values = [np.mean(predictions_Melbourne), np.mean(predictions_Capetown)]  # Replace these values with your own\n",
        "\n",
        "# Names for the bars\n",
        "cities = ['Melbourne', 'Cape Town']\n",
        "\n",
        "plt.figure(figsize=(8, 6))\n",
        "\n",
        "# Creating the bar chart\n",
        "plt.bar(cities, values, color=['skyblue', 'salmon'])\n",
        "plt.ylim(0.80, 1.0)\n",
        "# Adding labels and title\n",
        "plt.xlabel('Cities')\n",
        "plt.ylabel('Percentage ')\n",
        "plt.title('Percentage Positive Comments between Melbourne and Cape Town')\n",
        "\n",
        "# Show the plot\n",
        "plt.show()"
      ],
      "metadata": {
        "colab": {
          "base_uri": "https://localhost:8080/",
          "height": 564
        },
        "id": "o8kPfT4YZHTy",
        "outputId": "e54eb310-9cb5-4d0f-ceae-f02d62bf194e"
      },
      "id": "o8kPfT4YZHTy",
      "execution_count": null,
      "outputs": [
        {
          "output_type": "display_data",
          "data": {
            "text/plain": [
              "<Figure size 800x600 with 1 Axes>"
            ],
            "image/png": "[encoded data removed]"
          },
          "metadata": {}
        }
      ]
    }
  ],
  "metadata": {
    "kernelspec": {
      "display_name": "Python 3",
      "name": "python3"
    },
    "language_info": {
      "codemirror_mode": {
        "name": "ipython",
        "version": 3
      },
      "file_extension": ".py",
      "mimetype": "text/x-python",
      "name": "python",
      "nbconvert_exporter": "python",
      "pygments_lexer": "ipython3",
      "version": "3.9.6"
    },
    "colab": {
      "provenance": [],
      "gpuType": "T4"
    },
    "accelerator": "GPU"
  },
  "nbformat": 4,
  "nbformat_minor": 5
}